{
  "nbformat": 4,
  "nbformat_minor": 0,
  "metadata": {
    "colab": {
      "provenance": []
    },
    "kernelspec": {
      "name": "python3",
      "display_name": "Python 3"
    },
    "language_info": {
      "name": "python"
    }
  },
  "cells": [
    {
      "cell_type": "code",
      "execution_count": null,
      "metadata": {
        "id": "AiODjKSWh7rU"
      },
      "outputs": [],
      "source": [
        "import pandas as pd                         # Импортируем библиотеку для работы с таблицами и данными\n",
        "import numpy as np                          # Импортируем библиотеку для численных операций с массивами\n",
        "from sklearn.preprocessing import LabelEncoder, OneHotEncoder  # Для кодирования категориальных меток\n",
        "from sklearn.model_selection import train_test_split            # Для разделения данных на обучающую и тестовую выборки\n",
        "from tensorflow.keras.models import Sequential                   # Для создания последовательных моделей нейронных сетей\n",
        "from tensorflow.keras.layers import LSTM, GRU, Dense, Dropout, Masking  # Слои для рекуррентных сетей и др.\n",
        "from tensorflow.keras.utils import to_categorical                 # Для преобразования меток в one-hot формат\n",
        "from sklearn.metrics import classification_report, confusion_matrix  # Для оценки качества классификации\n",
        "import matplotlib.pyplot as plt                                   # Для построения графиков\n",
        "import seaborn as sns                                             # Для улучшенной визуализации графиков"
      ]
    },
    {
      "cell_type": "code",
      "source": [
        "# 1. ЗАГРУЗКА ДАННЫХ\n",
        "df = pd.read_csv('data.csv', on_bad_lines='skip') # считываем данные пропуская проблемные строчки\n",
        "print(df.head(5))"
      ],
      "metadata": {
        "colab": {
          "base_uri": "https://localhost:8080/"
        },
        "id": "PDbYg-BqmX-T",
        "outputId": "d4248e5a-6762-4a60-ef48-97eb35fdf3d4"
      },
      "execution_count": null,
      "outputs": [
        {
          "output_type": "stream",
          "name": "stdout",
          "text": [
            "   id  expiration_id     src_ip            src_mac   src_oui  src_port  \\\n",
            "0   0              0  10.1.1.11  fa:16:3e:2c:fe:de  fa:16:3e     47794   \n",
            "1   1              0   10.1.1.4  fa:16:3e:03:f9:45  fa:16:3e       123   \n",
            "2   2              0   10.1.1.6  fa:16:3e:d9:a8:74  fa:16:3e       123   \n",
            "3   3              0   10.1.1.4  fa:16:3e:03:f9:45  fa:16:3e       123   \n",
            "4   4              0   10.1.1.6  fa:16:3e:d9:a8:74  fa:16:3e       123   \n",
            "\n",
            "           dst_ip            dst_mac   dst_oui  dst_port  ...  \\\n",
            "0   35.232.111.17  fa:16:3e:e5:11:55  fa:16:3e        80  ...   \n",
            "1  138.236.128.36  fa:16:3e:e5:11:55  fa:16:3e       123  ...   \n",
            "2  27.124.125.252  fa:16:3e:e5:11:55  fa:16:3e       123  ...   \n",
            "3   45.79.214.107  fa:16:3e:e5:11:55  fa:16:3e       123  ...   \n",
            "4   204.11.201.12  fa:16:3e:e5:11:55  fa:16:3e       123  ...   \n",
            "\n",
            "   application_is_guessed          requested_server_name  client_fingerprint  \\\n",
            "0                       0  connectivity-check.ubuntu.com                 NaN   \n",
            "1                       0                            NaN                 NaN   \n",
            "2                       0                            NaN                 NaN   \n",
            "3                       0                            NaN                 NaN   \n",
            "4                       0                            NaN                 NaN   \n",
            "\n",
            "   server_fingerprint  user_agent  content_type  Activity   Stage  \\\n",
            "0                 NaN         NaN           NaN    Normal  Benign   \n",
            "1                 NaN         NaN           NaN    Normal  Benign   \n",
            "2                 NaN         NaN           NaN    Normal  Benign   \n",
            "3                 NaN         NaN           NaN    Normal  Benign   \n",
            "4                 NaN         NaN           NaN    Normal  Benign   \n",
            "\n",
            "   DefenderResponse  Signature  \n",
            "0            Benign        NaN  \n",
            "1            Benign        NaN  \n",
            "2            Benign        NaN  \n",
            "3            Benign        NaN  \n",
            "4            Benign        NaN  \n",
            "\n",
            "[5 rows x 89 columns]\n"
          ]
        }
      ]
    },
    {
      "cell_type": "code",
      "source": [
        "# 2. ОЧИСТКА ДАННЫХ\n",
        "useful_cols = [\n",
        "    'src_ip', 'user_agent', 'Activity', 'Stage',\n",
        "    'bidirectional_duration_ms', 'bidirectional_packets', 'bidirectional_bytes',\n",
        "    'src2dst_packets', 'dst2src_packets'\n",
        "]  # Определяем полезные столбцы (идентификаторы и числовые признаки)\n",
        "\n",
        "df = df[useful_cols]        # Оставляем в датафрейме только эти столбцы\n",
        "df.dropna(inplace=True)     # Удаляем строки с пропущенными значениями"
      ],
      "metadata": {
        "colab": {
          "base_uri": "https://localhost:8080/"
        },
        "id": "Pwl1NTv2meIZ",
        "outputId": "7754a2c0-6a2f-4992-c1b4-7ff9aa018538"
      },
      "execution_count": null,
      "outputs": [
        {
          "output_type": "stream",
          "name": "stderr",
          "text": [
            "<ipython-input-3-347fe75b5783>:9: SettingWithCopyWarning: \n",
            "A value is trying to be set on a copy of a slice from a DataFrame\n",
            "\n",
            "See the caveats in the documentation: https://pandas.pydata.org/pandas-docs/stable/user_guide/indexing.html#returning-a-view-versus-a-copy\n",
            "  df.dropna(inplace=True)     # Удаляем строки с пропущенными значениями\n"
          ]
        }
      ]
    },
    {
      "cell_type": "code",
      "source": [
        "# 3. ГРУППИРОВКА ПО СЕССИЯМ\n",
        "# Группируем события по уникальным сессиям (IP + агент)\n",
        "session_groups = df.groupby(['src_ip', 'user_agent'])\n",
        "\n",
        "def make_sequences(group):\n",
        "    # Максимум 10 событий в сессии для примера\n",
        "    max_seq_len = 10\n",
        "    seq = group[['bidirectional_duration_ms', 'bidirectional_packets', 'bidirectional_bytes',\n",
        "                 'src2dst_packets', 'dst2src_packets']].values # Берём числовые признаки из группы событий\n",
        "\n",
        "    if len(seq) > max_seq_len: # Если событий больше 10, обрезаем до первых 10\n",
        "        seq = seq[:max_seq_len]\n",
        "    else:\n",
        "        padding = np.zeros((max_seq_len - len(seq), seq.shape[1])) # Иначе дополняем нулями для выравнивания длины\n",
        "        seq = np.vstack([seq, padding])\n",
        "\n",
        "    activity = group['Activity'].iloc[0] # Метка активности сессии (например, Normal или APT) берётся из первого события\n",
        "    stage = group['Stage'].iloc[0]  # Метка этапа атаки тоже из первого события\n",
        "    return seq, activity, stage\n",
        "\n",
        "sequences = [] # Список для хранения последовательностей признаков\n",
        "activities = [] # Метки активности\n",
        "stages = [] # Метки этапов атаки\n",
        "\n",
        "for _, group in session_groups:  # Для каждой сессии\n",
        "    seq, act, stg = make_sequences(group) # формируем последовательность признаков и меток\n",
        "    sequences.append(seq)\n",
        "    activities.append(act)\n",
        "    stages.append(stg)\n",
        "\n",
        "X = np.array(sequences)  # Массив с последовательностями признаков: (число сессий, длина seq, число признаков)\n",
        "y_activity = np.array(activities) # Метки активности (Normal/APT)\n",
        "y_stage = np.array(stages)   # Метки этапов атаки"
      ],
      "metadata": {
        "id": "TJXwTCksmhXU"
      },
      "execution_count": null,
      "outputs": []
    },
    {
      "cell_type": "code",
      "source": [
        "# 4. КОДИРОВКА МЕТОК\n",
        " # Создаём кодировщик для активности (бинарная классификация)\n",
        "le_activity = LabelEncoder()\n",
        "y_activity_enc = le_activity.fit_transform(y_activity)  # Преобразуем метки в числа (0 и 1)\n",
        "\n",
        "unique_stages = sorted(set(y_stage))  # Находим уникальные этапы атаки\n",
        "stage_to_index = {stg: idx for idx, stg in enumerate(unique_stages)} # Создаём словарь: этап -> индекс\n",
        "y_stage_enc = np.array([stage_to_index[stg] for stg in y_stage]) # Преобразуем этапы в индексы\n",
        "y_stage_onehot = to_categorical(y_stage_enc, num_classes=len(unique_stages)) # В one-hot формат"
      ],
      "metadata": {
        "id": "6TaQuQVPmjWL"
      },
      "execution_count": null,
      "outputs": []
    },
    {
      "cell_type": "code",
      "source": [
        "# 5. РАЗДЕЛЕНИЕ НА ОБУЧЕНИЕ И ТЕСТ\n",
        "X_train, X_test, y_train, y_test = train_test_split(X, y_activity_enc, test_size=0.2, random_state=42)"
      ],
      "metadata": {
        "id": "JoGpPUIsmlWw"
      },
      "execution_count": null,
      "outputs": []
    },
    {
      "cell_type": "code",
      "source": [
        "# 6. ПОСТРОЕНИЕ МОДЕЛИ LSTM для бинарной классификации\n",
        "model = Sequential()  # Создаём последовательную модель нейросети\n",
        "model.add(Masking(mask_value=0., input_shape=(X.shape[1], X.shape[2]))) # Маскирование padding (нулевых значений)\n",
        "model.add(LSTM(64, return_sequences=False))  # LSTM-слой с 64 нейронами\n",
        "model.add(Dropout(0.3)) # Dropout для регуляризации (предотвращение переобучения)\n",
        "model.add(Dense(1, activation='sigmoid'))   # Выходной слой для бинарной классификации (0 или 1)\n",
        "model.compile(loss='binary_crossentropy', optimizer='adam', metrics=['accuracy']) # Компилируем модель"
      ],
      "metadata": {
        "colab": {
          "base_uri": "https://localhost:8080/"
        },
        "id": "rHzSmdx5mm8x",
        "outputId": "65a02a98-4c66-4b9a-9478-a34da501aa18"
      },
      "execution_count": null,
      "outputs": [
        {
          "output_type": "stream",
          "name": "stderr",
          "text": [
            "/usr/local/lib/python3.11/dist-packages/keras/src/layers/core/masking.py:47: UserWarning: Do not pass an `input_shape`/`input_dim` argument to a layer. When using Sequential models, prefer using an `Input(shape)` object as the first layer in the model instead.\n",
            "  super().__init__(**kwargs)\n"
          ]
        }
      ]
    },
    {
      "cell_type": "code",
      "source": [
        "# 7. ОБУЧЕНИЕ\n",
        "history = model.fit(X_train, y_train, epochs=10, batch_size=32, validation_split=0.2) # Обучаем с 10 эпохами и валидацией"
      ],
      "metadata": {
        "colab": {
          "base_uri": "https://localhost:8080/"
        },
        "id": "yMzXbmz9mrhS",
        "outputId": "97b6c0df-3f03-4aea-f812-9174b0fbba3d"
      },
      "execution_count": null,
      "outputs": [
        {
          "output_type": "stream",
          "name": "stdout",
          "text": [
            "Epoch 1/10\n",
            "\u001b[1m1/1\u001b[0m \u001b[32m━━━━━━━━━━━━━━━━━━━━\u001b[0m\u001b[37m\u001b[0m \u001b[1m10s\u001b[0m 10s/step - accuracy: 0.5000 - loss: 0.9280 - val_accuracy: 0.0000e+00 - val_loss: 1.3021\n",
            "Epoch 2/10\n",
            "\u001b[1m1/1\u001b[0m \u001b[32m━━━━━━━━━━━━━━━━━━━━\u001b[0m\u001b[37m\u001b[0m \u001b[1m0s\u001b[0m 88ms/step - accuracy: 0.5000 - loss: 0.8472 - val_accuracy: 0.0000e+00 - val_loss: 1.2899\n",
            "Epoch 3/10\n",
            "\u001b[1m1/1\u001b[0m \u001b[32m━━━━━━━━━━━━━━━━━━━━\u001b[0m\u001b[37m\u001b[0m \u001b[1m0s\u001b[0m 127ms/step - accuracy: 0.3333 - loss: 0.9068 - val_accuracy: 0.0000e+00 - val_loss: 1.2776\n",
            "Epoch 4/10\n",
            "\u001b[1m1/1\u001b[0m \u001b[32m━━━━━━━━━━━━━━━━━━━━\u001b[0m\u001b[37m\u001b[0m \u001b[1m0s\u001b[0m 99ms/step - accuracy: 0.5000 - loss: 0.9316 - val_accuracy: 0.0000e+00 - val_loss: 1.2655\n",
            "Epoch 5/10\n",
            "\u001b[1m1/1\u001b[0m \u001b[32m━━━━━━━━━━━━━━━━━━━━\u001b[0m\u001b[37m\u001b[0m \u001b[1m0s\u001b[0m 84ms/step - accuracy: 0.5000 - loss: 0.8422 - val_accuracy: 0.0000e+00 - val_loss: 1.2537\n",
            "Epoch 6/10\n",
            "\u001b[1m1/1\u001b[0m \u001b[32m━━━━━━━━━━━━━━━━━━━━\u001b[0m\u001b[37m\u001b[0m \u001b[1m0s\u001b[0m 139ms/step - accuracy: 0.5000 - loss: 0.9831 - val_accuracy: 0.0000e+00 - val_loss: 1.2430\n",
            "Epoch 7/10\n",
            "\u001b[1m1/1\u001b[0m \u001b[32m━━━━━━━━━━━━━━━━━━━━\u001b[0m\u001b[37m\u001b[0m \u001b[1m0s\u001b[0m 145ms/step - accuracy: 0.5000 - loss: 0.7640 - val_accuracy: 0.0000e+00 - val_loss: 1.2383\n",
            "Epoch 8/10\n",
            "\u001b[1m1/1\u001b[0m \u001b[32m━━━━━━━━━━━━━━━━━━━━\u001b[0m\u001b[37m\u001b[0m \u001b[1m0s\u001b[0m 132ms/step - accuracy: 0.6667 - loss: 0.8395 - val_accuracy: 0.0000e+00 - val_loss: 1.2357\n",
            "Epoch 9/10\n",
            "\u001b[1m1/1\u001b[0m \u001b[32m━━━━━━━━━━━━━━━━━━━━\u001b[0m\u001b[37m\u001b[0m \u001b[1m0s\u001b[0m 126ms/step - accuracy: 0.5000 - loss: 0.7498 - val_accuracy: 0.0000e+00 - val_loss: 1.2274\n",
            "Epoch 10/10\n",
            "\u001b[1m1/1\u001b[0m \u001b[32m━━━━━━━━━━━━━━━━━━━━\u001b[0m\u001b[37m\u001b[0m \u001b[1m0s\u001b[0m 89ms/step - accuracy: 0.5000 - loss: 0.7657 - val_accuracy: 0.0000e+00 - val_loss: 1.2170\n"
          ]
        }
      ]
    },
    {
      "cell_type": "code",
      "source": [
        "# 8. ОЦЕНКА НА ТЕСТЕ\n",
        "y_pred_prob = model.predict(X_test)  # Предсказываем вероятности классов\n",
        "y_pred = (y_pred_prob > 0.5).astype(int).flatten() # Преобразуем вероятности в бинарные метки\n",
        "\n",
        "print(classification_report(y_test, y_pred, labels=[0,1], target_names=le_activity.classes_)) # передаём список меток в classification_report"
      ],
      "metadata": {
        "colab": {
          "base_uri": "https://localhost:8080/"
        },
        "id": "BGoQKMStmxnv",
        "outputId": "018952af-16d3-43f3-dc29-0a67b20421f2"
      },
      "execution_count": null,
      "outputs": [
        {
          "output_type": "stream",
          "name": "stdout",
          "text": [
            "\u001b[1m1/1\u001b[0m \u001b[32m━━━━━━━━━━━━━━━━━━━━\u001b[0m\u001b[37m\u001b[0m \u001b[1m0s\u001b[0m 255ms/step\n",
            "              precision    recall  f1-score   support\n",
            "\n",
            "      Normal       1.00      0.50      0.67         2\n",
            "\n",
            "    accuracy                           0.50         2\n",
            "   macro avg       0.50      0.25      0.33         2\n",
            "weighted avg       1.00      0.50      0.67         2\n",
            "\n"
          ]
        },
        {
          "output_type": "stream",
          "name": "stderr",
          "text": [
            "/usr/local/lib/python3.11/dist-packages/sklearn/metrics/_classification.py:2687: UserWarning: labels size, 2, does not match size of target_names, 1\n",
            "  warnings.warn(\n",
            "/usr/local/lib/python3.11/dist-packages/sklearn/metrics/_classification.py:1565: UndefinedMetricWarning: Recall is ill-defined and being set to 0.0 in labels with no true samples. Use `zero_division` parameter to control this behavior.\n",
            "  _warn_prf(average, modifier, f\"{metric.capitalize()} is\", len(result))\n",
            "/usr/local/lib/python3.11/dist-packages/sklearn/metrics/_classification.py:1565: UndefinedMetricWarning: Recall is ill-defined and being set to 0.0 in labels with no true samples. Use `zero_division` parameter to control this behavior.\n",
            "  _warn_prf(average, modifier, f\"{metric.capitalize()} is\", len(result))\n",
            "/usr/local/lib/python3.11/dist-packages/sklearn/metrics/_classification.py:1565: UndefinedMetricWarning: Recall is ill-defined and being set to 0.0 in labels with no true samples. Use `zero_division` parameter to control this behavior.\n",
            "  _warn_prf(average, modifier, f\"{metric.capitalize()} is\", len(result))\n"
          ]
        }
      ]
    },
    {
      "cell_type": "code",
      "source": [
        "# 9. ВИЗУАЛИЗАЦИЯ CONFUSION MATRIX\n",
        "cm = confusion_matrix(y_test, y_pred)  # Строим матрицу ошибок (TP, FP, FN, TN)\n",
        "plt.figure(figsize=(5,4))\n",
        "sns.heatmap(cm, annot=True, fmt='d', cmap='Blues', # Визуализация матрицы ошибок\n",
        "            xticklabels=le_activity.classes_, yticklabels=le_activity.classes_)\n",
        "plt.xlabel('Predicted')\n",
        "plt.ylabel('True')\n",
        "plt.title('Confusion Matrix for Activity Classification')\n",
        "plt.show()"
      ],
      "metadata": {
        "colab": {
          "base_uri": "https://localhost:8080/",
          "height": 410
        },
        "id": "qnOnq2asm06h",
        "outputId": "a9e28341-c26d-4090-cce8-4c2d346496ca"
      },
      "execution_count": null,
      "outputs": [
        {
          "output_type": "display_data",
          "data": {
            "text/plain": [
              "<Figure size 500x400 with 2 Axes>"
            ],
            "image/png": "[encoded data removed]"
          },
          "metadata": {}
        }
      ]
    },
    {
      "cell_type": "code",
      "source": [
        "# 10. АНАЛИЗ ЛОЖНОПОЗИТИВНЫХ И ЛОЖНООТРИЦАТЕЛЬНЫХ СЕССИЙ\n",
        "fp_idx = np.where((y_test == 0) & (y_pred == 1))[0] # Индексы случаев, когда нормальное поведение ошибочно определили как атаку\n",
        "fn_idx = np.where((y_test == 1) & (y_pred == 0))[0]  # Индексы случаев, когда атаку пропустили (ошибка)\n",
        "\n",
        "print(f'False Positives examples (Normal classified as Attack): {fp_idx}')\n",
        "print(f'False Negatives examples (Attack classified as Normal): {fn_idx}')"
      ],
      "metadata": {
        "colab": {
          "base_uri": "https://localhost:8080/"
        },
        "id": "DDfcGD2Bm5p6",
        "outputId": "7c957284-73ba-40af-8f58-9a84e7be34e7"
      },
      "execution_count": null,
      "outputs": [
        {
          "output_type": "stream",
          "name": "stdout",
          "text": [
            "False Positives examples (Normal classified as Attack): [1]\n",
            "False Negatives examples (Attack classified as Normal): []\n"
          ]
        }
      ]
    },
    {
      "cell_type": "code",
      "source": [
        "# 11. MULTI-LABEL МОДЕЛЬ ДЛЯ STAGE (этапов атаки)\n",
        "# Делим выборки для multi-label\n",
        "X_train_stg, X_test_stg, y_train_stg, y_test_stg = train_test_split(X, y_stage_onehot, test_size=0.2, random_state=42) # Для этапов атаки\n",
        "\n",
        "model_stage = Sequential()\n",
        "model_stage.add(Masking(mask_value=0., input_shape=(X.shape[1], X.shape[2])))\n",
        "model_stage.add(GRU(64, return_sequences=False))  # Используем GRU вместо LSTM\n",
        "model_stage.add(Dropout(0.3))\n",
        "model_stage.add(Dense(len(unique_stages), activation='softmax'))  # Многоклассовый выход для этапов\n",
        "model_stage.compile(loss='categorical_crossentropy', optimizer='adam', metrics=['accuracy'])\n",
        "\n",
        "history_stage = model_stage.fit(X_train_stg, y_train_stg, epochs=10, batch_size=32, validation_split=0.2)"
      ],
      "metadata": {
        "colab": {
          "base_uri": "https://localhost:8080/"
        },
        "id": "7MGpGjplm_W2",
        "outputId": "52a9c339-46ce-42ad-d07d-4206b81fb564"
      },
      "execution_count": null,
      "outputs": [
        {
          "output_type": "stream",
          "name": "stderr",
          "text": [
            "/usr/local/lib/python3.11/dist-packages/keras/src/layers/core/masking.py:47: UserWarning: Do not pass an `input_shape`/`input_dim` argument to a layer. When using Sequential models, prefer using an `Input(shape)` object as the first layer in the model instead.\n",
            "  super().__init__(**kwargs)\n"
          ]
        },
        {
          "output_type": "stream",
          "name": "stdout",
          "text": [
            "Epoch 1/10\n"
          ]
        },
        {
          "output_type": "stream",
          "name": "stderr",
          "text": [
            "/usr/local/lib/python3.11/dist-packages/keras/src/ops/nn.py:907: UserWarning: You are using a softmax over axis -1 of a tensor of shape (None, 1). This axis has size 1. The softmax operation will always return the value 1, which is likely not what you intended. Did you mean to use a sigmoid instead?\n",
            "  warnings.warn(\n",
            "/usr/local/lib/python3.11/dist-packages/keras/src/losses/losses.py:33: SyntaxWarning: In loss categorical_crossentropy, expected y_pred.shape to be (batch_size, num_classes) with num_classes > 1. Received: y_pred.shape=(None, 1). Consider using 'binary_crossentropy' if you only have 2 classes.\n",
            "  return self.fn(y_true, y_pred, **self._fn_kwargs)\n"
          ]
        },
        {
          "output_type": "stream",
          "name": "stdout",
          "text": [
            "\u001b[1m1/1\u001b[0m \u001b[32m━━━━━━━━━━━━━━━━━━━━\u001b[0m\u001b[37m\u001b[0m \u001b[1m5s\u001b[0m 5s/step - accuracy: 1.0000 - loss: 0.0000e+00 - val_accuracy: 1.0000 - val_loss: 0.0000e+00\n",
            "Epoch 2/10\n",
            "\u001b[1m1/1\u001b[0m \u001b[32m━━━━━━━━━━━━━━━━━━━━\u001b[0m\u001b[37m\u001b[0m \u001b[1m0s\u001b[0m 400ms/step - accuracy: 1.0000 - loss: 0.0000e+00 - val_accuracy: 1.0000 - val_loss: 0.0000e+00\n",
            "Epoch 3/10\n",
            "\u001b[1m1/1\u001b[0m \u001b[32m━━━━━━━━━━━━━━━━━━━━\u001b[0m\u001b[37m\u001b[0m \u001b[1m0s\u001b[0m 475ms/step - accuracy: 1.0000 - loss: 0.0000e+00 - val_accuracy: 1.0000 - val_loss: 0.0000e+00\n",
            "Epoch 4/10\n",
            "\u001b[1m1/1\u001b[0m \u001b[32m━━━━━━━━━━━━━━━━━━━━\u001b[0m\u001b[37m\u001b[0m \u001b[1m0s\u001b[0m 248ms/step - accuracy: 1.0000 - loss: 0.0000e+00 - val_accuracy: 1.0000 - val_loss: 0.0000e+00\n",
            "Epoch 5/10\n",
            "\u001b[1m1/1\u001b[0m \u001b[32m━━━━━━━━━━━━━━━━━━━━\u001b[0m\u001b[37m\u001b[0m \u001b[1m0s\u001b[0m 344ms/step - accuracy: 1.0000 - loss: 0.0000e+00 - val_accuracy: 1.0000 - val_loss: 0.0000e+00\n",
            "Epoch 6/10\n",
            "\u001b[1m1/1\u001b[0m \u001b[32m━━━━━━━━━━━━━━━━━━━━\u001b[0m\u001b[37m\u001b[0m \u001b[1m1s\u001b[0m 635ms/step - accuracy: 1.0000 - loss: 0.0000e+00 - val_accuracy: 1.0000 - val_loss: 0.0000e+00\n",
            "Epoch 7/10\n",
            "\u001b[1m1/1\u001b[0m \u001b[32m━━━━━━━━━━━━━━━━━━━━\u001b[0m\u001b[37m\u001b[0m \u001b[1m1s\u001b[0m 535ms/step - accuracy: 1.0000 - loss: 0.0000e+00 - val_accuracy: 1.0000 - val_loss: 0.0000e+00\n",
            "Epoch 8/10\n",
            "\u001b[1m1/1\u001b[0m \u001b[32m━━━━━━━━━━━━━━━━━━━━\u001b[0m\u001b[37m\u001b[0m \u001b[1m0s\u001b[0m 474ms/step - accuracy: 1.0000 - loss: 0.0000e+00 - val_accuracy: 1.0000 - val_loss: 0.0000e+00\n",
            "Epoch 9/10\n",
            "\u001b[1m1/1\u001b[0m \u001b[32m━━━━━━━━━━━━━━━━━━━━\u001b[0m\u001b[37m\u001b[0m \u001b[1m1s\u001b[0m 618ms/step - accuracy: 1.0000 - loss: 0.0000e+00 - val_accuracy: 1.0000 - val_loss: 0.0000e+00\n",
            "Epoch 10/10\n",
            "\u001b[1m1/1\u001b[0m \u001b[32m━━━━━━━━━━━━━━━━━━━━\u001b[0m\u001b[37m\u001b[0m \u001b[1m1s\u001b[0m 692ms/step - accuracy: 1.0000 - loss: 0.0000e+00 - val_accuracy: 1.0000 - val_loss: 0.0000e+00\n"
          ]
        }
      ]
    },
    {
      "cell_type": "code",
      "source": [
        "# 12. Визуализация timeline heatmap по действиям атакующего\n",
        "# Для упрощения — визуализируем сумму bidirectional_bytes по сессиям и шагам\n",
        "# Можно расширить до разных признаков, отсортировав по времени\n",
        "\n",
        "# Создадим датафрейм для heatmap (сессия x временной шаг)\n",
        "heatmap_data = []\n",
        "for seq in X:\n",
        "    heatmap_data.append(seq[:, 2])  # Берём признак bidirectional_bytes для каждого временного шага\n",
        "\n",
        "heatmap_data = np.array(heatmap_data)\n",
        "\n",
        "plt.figure(figsize=(10, 6))\n",
        "sns.heatmap(heatmap_data, cmap='Reds', cbar_kws={'label': 'Bytes'})\n",
        "plt.xlabel('Time step')\n",
        "plt.ylabel('Session')\n",
        "plt.title('Timeline Heatmap of bidirectional_bytes per session')\n",
        "plt.show()"
      ],
      "metadata": {
        "colab": {
          "base_uri": "https://localhost:8080/",
          "height": 564
        },
        "id": "hxV91aWPnFmn",
        "outputId": "9416e2fa-b789-406c-91b3-4a4a98aa42ba"
      },
      "execution_count": null,
      "outputs": [
        {
          "output_type": "display_data",
          "data": {
            "text/plain": [
              "<Figure size 1000x600 with 2 Axes>"
            ],
            "image/png": "[encoded data removed]"
          },
          "metadata": {}
        }
      ]
    }
  ]
}